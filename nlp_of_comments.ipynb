{
 "cells": [
  {
   "cell_type": "markdown",
   "metadata": {},
   "source": [
    "# Hiring Case Study: Task 2\n",
    "#### first things first: import packages"
   ]
  },
  {
   "cell_type": "code",
   "execution_count": 264,
   "metadata": {},
   "outputs": [],
   "source": [
    "import pandas as pd\n",
    "import pyarrow\n",
    "import numpy as np\n",
    "from sklearn.preprocessing import LabelEncoder\n",
    "from sklearn.feature_extraction.text import TfidfVectorizer\n",
    "from sklearn import model_selection, svm\n",
    "from sklearn.metrics import accuracy_score"
   ]
  },
  {
   "cell_type": "markdown",
   "metadata": {},
   "source": [
    "#### set random seed"
   ]
  },
  {
   "cell_type": "code",
   "execution_count": 265,
   "metadata": {},
   "outputs": [],
   "source": [
    "np.random.seed(500)"
   ]
  },
  {
   "cell_type": "markdown",
   "metadata": {},
   "source": [
    "#### load and inspect data"
   ]
  },
  {
   "cell_type": "code",
   "execution_count": 266,
   "metadata": {},
   "outputs": [
    {
     "name": "stdout",
     "output_type": "stream",
     "text": [
      "                    keyword                     category\n",
      "0                Apremilast  Andere systemische Therapie\n",
      "1  Phosphodiesterase-Hemmer  Andere systemische Therapie\n",
      "2                    Otezla  Andere systemische Therapie\n",
      "3            PDE4-Inhibitor  Andere systemische Therapie\n",
      "4               Ciclosporin  Andere systemische Therapie\n",
      "   post_id                                               text       user  \\\n",
      "0   170079   zunehmend oft höre ich über die problematik d...  Annamaria   \n",
      "1   170082   Hallo Annamaria,  herzlich Willkommen hier im...     Fischi   \n",
      "2   170210   hallo, Annamaria -  ich wünsche dir wirklich ...       Bibi   \n",
      "3   170251   Auch ich wünsche euch ein schönes und glückli...  BlackLady   \n",
      "4   170019   Ich wünsche Allen   Frohes Neues Jahr GB Pics...   Bernd-57   \n",
      "\n",
      "            timestamp  subject_id       forum_id  \n",
      "0 2010-01-01 21:48:37       13338    4-community  \n",
      "1 2010-01-01 21:48:37       13338    4-community  \n",
      "2 2010-01-01 21:48:37       13338    4-community  \n",
      "3 2010-01-02 10:13:06        3969  1-allgemeines  \n",
      "4 2010-01-02 10:13:06        3969  1-allgemeines  \n"
     ]
    }
   ],
   "source": [
    "df_forum = pd.read_parquet(r'psoriasis_all_posts.parquet', engine='pyarrow').reset_index(drop=True)\n",
    "df_categories = pd.read_excel(r'keywords_psoriasis_therapies.xlsx')\n",
    "print(df_categories.head())\n",
    "print(df_forum.head())"
   ]
  },
  {
   "cell_type": "markdown",
   "metadata": {},
   "source": [
    "#### Preprocess"
   ]
  },
  {
   "cell_type": "code",
   "execution_count": 267,
   "metadata": {},
   "outputs": [
    {
     "name": "stdout",
     "output_type": "stream",
     "text": [
      "{'ich': 47, 'über': 99, 'die': 20, 'der': 18, 'auch': 6, 'von': 86, 'und': 84, 'so': 82, 'an': 5, 'in': 51, 'den': 17, 'mich': 62, 'zu': 97, 'bin': 10, 'auf': 7, 'meine': 61, 'haut': 45, 'mit': 64, 'im': 49, 'habe': 40, 'einen': 29, 'viel': 85, 'quote': 74, 'hallo': 42, 'hier': 46, 'dich': 19, 'ein': 26, 'wenn': 90, 'du': 24, 'nur': 70, 'dir': 22, 'es': 32, 'werden': 91, 'dann': 13, 'dass': 15, 'alles': 1, 'für': 34, 'das': 14, 'dem': 16, 'was': 89, 'noch': 68, 'gibt': 36, 'also': 3, 'haben': 41, 'muss': 65, 'sich': 79, 'schon': 75, 'eine': 27, 'psoriasis': 73, 'sein': 77, 'hab': 39, 'diese': 21, 'kann': 55, 'einem': 28, 'um': 83, 'da': 12, 'mal': 57, 'immer': 50, 'grüße': 37, 'mir': 63, 'ihr': 48, 'als': 2, 'bei': 9, 'pso': 72, 'vor': 87, 'wurde': 96, 'einer': 30, 'sind': 81, 'nach': 66, 'aber': 0, 'war': 88, 'jetzt': 54, 'doch': 23, 'wieder': 93, 'sehr': 76, 'nicht': 67, 'wie': 92, 'ganz': 35, 'oder': 71, 'hatte': 44, 'etwas': 33, 'mehr': 59, 'ist': 52, 'sie': 80, 'keine': 56, 'gut': 38, 'nun': 69, 'hat': 43, 'wir': 94, 'am': 4, 'wird': 95, 'seit': 78, 'mein': 60, 'ja': 53, 'aus': 8, 'bis': 11, 'man': 58, 'durch': 25, 'zum': 98, 'er': 31}\n"
     ]
    }
   ],
   "source": [
    "# Remove blank rows if any.\n",
    "df_forum['text'].dropna(inplace=True)\n",
    "# Change all the text to lower case. \n",
    "df_forum['text'] = [entry.lower() for entry in df_forum['text']]\n",
    "# Split into Train and Test data\n",
    "Train_X, Test_X, Train_Y, Test_Y = model_selection.train_test_split(df_forum['text'],df_forum['forum_id'],test_size=0.3)\n",
    "Encoder = LabelEncoder()\n",
    "# Make Labels\n",
    "Train_Y = Encoder.fit_transform(Train_Y)\n",
    "Test_Y = Encoder.fit_transform(Test_Y)\n",
    "# Word Vectorization\n",
    "Tfidf_vect = TfidfVectorizer(max_features=100)\n",
    "Tfidf_vect.fit(df_forum['text'])\n",
    "Train_X_Tfidf = Tfidf_vect.transform(Train_X)\n",
    "Test_X_Tfidf = Tfidf_vect.transform(Test_X)\n",
    "print(Tfidf_vect.vocabulary_)"
   ]
  },
  {
   "cell_type": "markdown",
   "metadata": {},
   "source": [
    "#### Classify Posts into Forums with Support Vector Machine"
   ]
  },
  {
   "cell_type": "code",
   "execution_count": 271,
   "metadata": {},
   "outputs": [
    {
     "name": "stdout",
     "output_type": "stream",
     "text": [
      "SVM Accuracy Score ->  45.40466392318244\n"
     ]
    }
   ],
   "source": [
    "SVM = svm.SVC(C=1.0, kernel='linear', gamma='scale')\n",
    "SVM.fit(Train_X_Tfidf,Train_Y)\n",
    "# predict the labels on validation dataset\n",
    "predictions_SVM = SVM.predict(Test_X_Tfidf)\n",
    "# Use accuracy_score function to get the accuracy\n",
    "print(\"SVM Accuracy Score -> \",accuracy_score(predictions_SVM, Test_Y)*100)"
   ]
  }
 ],
 "metadata": {
  "kernelspec": {
   "display_name": "Python 3",
   "language": "python",
   "name": "python3"
  },
  "language_info": {
   "codemirror_mode": {
    "name": "ipython",
    "version": 3
   },
   "file_extension": ".py",
   "mimetype": "text/x-python",
   "name": "python",
   "nbconvert_exporter": "python",
   "pygments_lexer": "ipython3",
   "version": "3.7.9"
  }
 },
 "nbformat": 4,
 "nbformat_minor": 4
}
